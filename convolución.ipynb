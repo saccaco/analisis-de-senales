{
 "cells": [
  {
   "cell_type": "markdown",
   "id": "5a9b4900",
   "metadata": {},
   "source": [
    "## $$Convolución$$ ##"
   ]
  },
  {
   "cell_type": "markdown",
   "id": "104910d1",
   "metadata": {},
   "source": [
    "Sirve para el tratamiento de señales, busqueda de petroleo, busqueda de minerales, etc.  \n",
    "Existen 2 tipos según a la naturaleza de la función:\n",
    "* Convolución en tiempo continuo.\n",
    "* Convolución en tiempo discreto.\n",
    "### $1.-Convolución\\:en\\:Tiempo\\:Continuo\\:(Integral\\:Convolución)$ ###\n",
    "$$f(t)*g(t)=\\int_{-\\infty}^{\\infty}f(\\tau)g(t-\\tau)d\\tau$$\n",
    "Para evaluar esta integral para un valor específico de t, se fija la señal $h(t-\\tau)$ ( mediante considerada como función de $\\tau$ con t fija) a partir de h($\\tau$) un reflejo alrededor del origen y corrimiento a la derecha en un valor t si t>0 o a la izquiera por |t| para t<0.\n",
    "![Image](Imagenes/convolucion.PNG)"
   ]
  },
  {
   "cell_type": "markdown",
   "id": "960f74fe",
   "metadata": {},
   "source": [
    "Una forma de entender la convolución se puede hacer a traves de un **INTERPRETACIÓN GRÁFICA**, de la siguiente manera:\n",
    "![GIF](https://upload.wikimedia.org/wikipedia/commons/4/42/Convolucion_de_entrada_con_respuesta_al_impulso.gif)\n",
    "**RECORDAR:**  \n",
    "Existen diversas formas de obtener la convolución entre funciones."
   ]
  },
  {
   "cell_type": "markdown",
   "id": "7b69a6ac",
   "metadata": {},
   "source": [
    "## $3- Polinomios$ ##\n",
    "Son expresiones de suma de variables, donde podemos encontrar uno o más variables con coeficientes positivos o negativos.\n",
    "\n",
    "$$f(x)=x^2+2x+1$$\n",
    "o tambien\n",
    "$$f(x,y)=2x^4-4x^2y+3xy^2+8y^2+5$$"
   ]
  },
  {
   "cell_type": "code",
   "execution_count": 23,
   "id": "7d4b8ca8",
   "metadata": {},
   "outputs": [],
   "source": [
    "from IPython.display import Image\n",
    "from scipy import signal\n",
    "import numpy as np\n",
    "import matplotlib.pyplot as plt\n",
    "from scipy import signal\n",
    "from scipy.fftpack import fft, ifft"
   ]
  },
  {
   "cell_type": "code",
   "execution_count": 2,
   "id": "2b7a8fe8",
   "metadata": {},
   "outputs": [],
   "source": [
    "%matplotlib notebook"
   ]
  },
  {
   "cell_type": "code",
   "execution_count": 5,
   "id": "2120c8b0",
   "metadata": {},
   "outputs": [
    {
     "name": "stdout",
     "output_type": "stream",
     "text": [
      "   2\n",
      "1 x + 2 x + 1\n",
      "El valor de f(3)=16\n"
     ]
    }
   ],
   "source": [
    "coef=[1,2,1] #Coeficientes del polinomio\n",
    "px=np.poly1d(coef)\n",
    "a=3 #valor a evaluar en el polinomio\n",
    "print(px)\n",
    "print(f'El valor de f({a})={px(a)}')"
   ]
  },
  {
   "cell_type": "code",
   "execution_count": 8,
   "id": "23194794",
   "metadata": {},
   "outputs": [
    {
     "name": "stdout",
     "output_type": "stream",
     "text": [
      "167\n"
     ]
    }
   ],
   "source": [
    "pxy=lambda x,y:2*x**4-(4*x**2)*y+3*x*y**2+8*y**2+5\n",
    "#esta manera es la más conocida llamada \"función desconocida\"\n",
    "a,b=3,0 #valor a evaluar en la expresión\n",
    "print(pxy(a,b)) #la salida del valor"
   ]
  },
  {
   "cell_type": "markdown",
   "id": "f8415f83",
   "metadata": {},
   "source": [
    "## $3.1-Representación\\:Polinomio\\:de\\:una\\:Variable$ ##\n",
    "por lo general un polinomio se pued\\:Polinomio\\:Y\\:Convolución\\:Lineale representar de la siguiente manera:\n",
    "$$f(x)=a_0+a_1x+a_2x^2+...+a_{n-1}x^{n-1}$$\n",
    "de forma resumida:\n",
    "$$f(x)=\\sum_{i=0}^{n-1}a_ix^i$$\n",
    "Donde: el vector de coeficientes es $[a_0,a_1,a_2,...,a_{n-1}]$\n",
    "## $3.2-Multiplicación\\:de\\:Polinomio\\:Y\\:Convolución\\:Lineal$ ##\n",
    "La estrategia está en trabajar con los vectores de coeficientes de los polinomios.\n",
    "$$p(x)=a_0+a_1x+a_2x^2+...+a_nx^n$$\n",
    "$$q(x)=b_0+b_1x+b_2x^2+...+b_mx^m$$\n",
    "El producto de polinomios es\n",
    "$$p(x).q(x)=a_0b_0+(a_1b_0+b_1a_0)x+...+a_nb_mx^{m+n}$$\n",
    "el vector de coeficiente:\n",
    "$$(p*q)(x)=a.b=[c_0,c_1,...,c_{n+m}]$$\n",
    "Finalmente se representa como:\n",
    "$$c[k]=\\sum_{i=-\\infty}^{\\infty}a[i]b[k-i]\\:k=0,1,...,n+m$$\n",
    "Esta operación hace referencia a **convolución lineal** que se denota con \"*\".  \n",
    "**Nota:** Si el polinomio tiene N y M terminos, la multiplicación tendrá N+M-1 terminos."
   ]
  },
  {
   "cell_type": "markdown",
   "id": "81afed52",
   "metadata": {},
   "source": [
    "## $3.2-Matriz\\:TOEPLITZ\\:Y\\:CONVOLUCIÓN$ ##\n",
    "La operación de convolución de 2 secuencias puede verse como una multiplicación de matrices. Dado un tiempo LTI con respuesta h[n] y una secuencia de entrada x[n] la salida del sistema será y[n].\n",
    "$$y[k]=h[n]*x[n]=\\sum_{i=-\\infty}^{\\infty}x[i]h[k-i]$$\n",
    "Un ejemplo, x[n] y h[n] tienen N y M elementos respectivamente, la convolución será:\n",
    "$$y[k]=h[n]*x[n]=\\sum_{i=-\\infty}^{\\infty}x[i]h[k-i]\\:k=0,1,...,5$$\n",
    "La representación de la ecuación en matriz será:\n",
    "$$y=h*x=\\begin{pmatrix}\n",
    "   h_0 & 0 & 0 \\\\\n",
    "   h_1 & h_0 & 0 \\\\\n",
    "   h_2 & h_1 & h_0 \\\\\n",
    "   h_3 & h_2 & h_1 \\\\\n",
    "   0 & h_3 & h_2 \\\\\n",
    "   0 & 0 & h_3 \\\\\n",
    "   \\end{pmatrix}\n",
    "   \\begin{pmatrix}\n",
    "   x_0 \\\\\n",
    "   x_1 \\\\\n",
    "   x_2 \\\\\n",
    "   \\end{pmatrix}\n",
    "$$\n",
    "La matriz con retrasos incrementales de h[n] es la **MATRIZ TOEPLITZ**.   \n",
    "**NOTA:** La matriz TOEPLITZ llamada matriz circulante se usa en aplicaciones de convolución circular y Transforma Discreta de Fourier (DFT).\n",
    "$$T(h)=\\begin{pmatrix}\n",
    "   h_0 & 0 & 0 \\\\\n",
    "   h_1 & h_0 & 0 \\\\\n",
    "   h_2 & h_1 & h_0 \\\\\n",
    "   h_3 & h_2 & h_1 \\\\\n",
    "   0 & h_3 & h_2 \\\\\n",
    "   0 & 0 & h_3 \\\\\n",
    "   \\end{pmatrix}$$"
   ]
  },
  {
   "cell_type": "markdown",
   "id": "9ae045f7",
   "metadata": {},
   "source": [
    "## $4-Métodos\\:para\\:calcular\\:Convolución$ ##\n",
    "Dado un sistema LTI con respuesta al impulso h[n] y una secuencia de entrada x[n].\n",
    "$$y[k]=h[n]*x[n]=\\sum-{i=-\\infty}^{\\infty}x[i]h[k-i]$$\n",
    "### $4.1-Método Fuerza Bruta$ ###\n",
    "La ecuación de convolución se simplifica a la interpretación de multiplicación de funciones."
   ]
  },
  {
   "cell_type": "code",
   "execution_count": 14,
   "id": "34f35ec1",
   "metadata": {},
   "outputs": [],
   "source": [
    "def conv_fuerza_bruta (x,h):\n",
    "    N, M=len(x), len(h)\n",
    "    y=np.zeros(N+M-1)\n",
    "    for i in range(N):\n",
    "        for j in range(M):\n",
    "            y[i+j-1]=y[i+j-1]+x[i]*h[j]\n",
    "    \n",
    "    return y"
   ]
  },
  {
   "cell_type": "code",
   "execution_count": 15,
   "id": "5cbea84a",
   "metadata": {},
   "outputs": [
    {
     "name": "stdout",
     "output_type": "stream",
     "text": [
      "Polinomios:\n",
      "   3     2\n",
      "1 x + 2 x + 1 x + 3\n",
      "   2\n",
      "1 x + 4 x - 1\n",
      "convolución:\n",
      "[11.  5.  8.  6.  1. -3.]\n"
     ]
    }
   ],
   "source": [
    "coef_h=[1,2,1,3] #la representación es h3,h2,...\n",
    "coef_x=[1,4,-1] #la representación es x3,x2,...\n",
    "print('Polinomios:')\n",
    "print(np.poly1d(coef_h),end='\\n')\n",
    "print(np.poly1d(coef_x))\n",
    "print('convolución:')\n",
    "coef_inv_h=coef_h[::-1]\n",
    "coef_inv_x=coef_x[::-1]\n",
    "convol=conv_fuerza_bruta(coef_inv_x,coef_inv_h)\n",
    "print(convol)"
   ]
  },
  {
   "cell_type": "markdown",
   "id": "cc1c645f",
   "metadata": {},
   "source": [
    "### $4.2-Método\\:Matriz\\:Toeplitz$ ###\n",
    "Cuando la secuencia de h[n] y x[n] son representado en matrices, la operación de convolución se puede representar como:\n",
    "$$y=h*x=T(h)*X$$\n",
    "Donde: **la matriz Toeplitz T(h) es de tamaño (N+p-1)x(p), p es la longitud de x.**"
   ]
  },
  {
   "cell_type": "code",
   "execution_count": 20,
   "id": "20679d70",
   "metadata": {},
   "outputs": [
    {
     "name": "stdout",
     "output_type": "stream",
     "text": [
      "[[  1   0   1   2   0   0   0]\n",
      " [  3   5   1   6   0   0   0]\n",
      " [  8  12  -4  11   0   0   0]\n",
      " [ 13  19  -9  16   0   0   0]\n",
      " [ 13  26 -19  11   0   0   0]\n",
      " [ 12   8 -20   4   0   0   0]]\n"
     ]
    }
   ],
   "source": [
    "h=np.array([[1,0,1,2],[1,5,-1,2],[3,2,-5,1]])\n",
    "x=np.array([[1,0,0,0],[2,0,0,0],[3,0,0,0],[4,0,0,0]])\n",
    "y=signal.convolve(x,h)\n",
    "\n",
    "print(y)"
   ]
  },
  {
   "cell_type": "markdown",
   "id": "7d3eed55",
   "metadata": {},
   "source": [
    "### $4.3-Método\\:FFT$ ###\n",
    "Calcula la convolución usando la FFT, reduce calculos complejos cuando los  vectores de entrada son largos.  \n",
    "**NOTA:** La FFT se manifiesta como convolución circular en el dominio del tiempo, pero nosotros queremos el calculo en  convolución lineal, por ello se realizará de la siguiente manera:\n",
    "$$y[n]=IFFT[FFT_L(x).FFT_L(h)],\\:\\:2^L\\geq |N+M-1|$$\n",
    "este calculo es ineficiente porque me agrega zeros de relleno.  \n",
    "Por ello, el siguiente algoritmo, que ignora ceros adicionales en los términos de salida, es suficiente.\n",
    "$$y[n]=IFFT[FFT_L(x).FFT_L(h)],\\:\\:L=N+M-1$$"
   ]
  },
  {
   "cell_type": "code",
   "execution_count": 45,
   "id": "d9dfcba8",
   "metadata": {},
   "outputs": [
    {
     "name": "stdout",
     "output_type": "stream",
     "text": [
      "[[ 2.26068585-0.57577362j -0.62590069+0.2024537j  -6.33331777+1.66715148j\n",
      "   6.95674365-2.06146729j  3.60918254+0.08356593j -5.93251879+2.08605328j\n",
      "   0.58780338-0.73765227j  4.6115309 -1.32716014j -4.64853451+1.73270074j]] \n",
      "\n",
      "[[ 2.26068585-0.57577362j -0.62590069+0.2024537j  -6.33331777+1.66715148j\n",
      "   6.95674365-2.06146729j  3.60918254+0.08356593j -5.93251879+2.08605328j\n",
      "   0.58780338-0.73765227j  4.6115309 -1.32716014j -4.64853451+1.73270074j]] \n",
      "\n",
      "[[ 2.26068585-0.57577362j -0.62590069+0.2024537j  -6.33331777+1.66715148j\n",
      "   6.95674365-2.06146729j  3.60918254+0.08356593j -5.93251879+2.08605328j\n",
      "   0.58780338-0.73765227j  4.6115309 -1.32716014j -4.64853451+1.73270074j]] \n",
      "\n"
     ]
    }
   ],
   "source": [
    "x=np.random.randn(1,7)+1j*np.random.randn(1,7)\n",
    "h=np.random.randn(1,3)+1j*np.random.randn(1,3)\n",
    "L=x.size+h.size-1\n",
    "\n",
    "y1=signal.convolve(x,h)\n",
    "y2=ifft(fft(x,L)*fft(h,L), L)\n",
    "y3=signal.convolve(x, h, method='fft')\n",
    "print(y1,'\\n')\n",
    "print(y2,'\\n')\n",
    "print(y3,'\\n')"
   ]
  }
 ],
 "metadata": {
  "kernelspec": {
   "display_name": "Python 3 (ipykernel)",
   "language": "python",
   "name": "python3"
  },
  "language_info": {
   "codemirror_mode": {
    "name": "ipython",
    "version": 3
   },
   "file_extension": ".py",
   "mimetype": "text/x-python",
   "name": "python",
   "nbconvert_exporter": "python",
   "pygments_lexer": "ipython3",
   "version": "3.9.6"
  }
 },
 "nbformat": 4,
 "nbformat_minor": 5
}
