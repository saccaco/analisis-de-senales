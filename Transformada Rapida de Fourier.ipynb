{
 "cells": [
  {
   "cell_type": "markdown",
   "id": "31437cb4",
   "metadata": {},
   "source": [
    "## $$Transformada\\:Rapida\\:de\\:Fourier$$ ##\n",
    "Es un algoritmo para realizar un cálculo eficiente para la obtención de los coeficiente de la DFT.  \n",
    "El analisis de frecuencia de señales en tiempo discreto se realiza convenientemente en procesadores de señales digitales que en general son las computadoras.  \n",
    "$$X[K]=\\sum_{n=0}^{N-1}x[n]W_{N}^{kn}, 0\\leq K\\leq N-1$$\n",
    "donde:  \n",
    "$$W_N=e^{-j2\\pi/N},\\:Factor\\:de\\:Doolittle$$"
   ]
  },
  {
   "cell_type": "markdown",
   "id": "3a9ab958",
   "metadata": {},
   "source": [
    "De manera similar, la IFFT es:\n",
    "$$x[n]=\\frac{1}{N}\\sum_{k=0}^{N-1}X[K]W_{N}^{-nk}, 0\\leq n\\leq N-1$$\n",
    "entonces, para poder obtener una salida correcta en **Python** debemos recordar:\n",
    "$$X[K]_{DFT}=\\frac{X[K]_{FFT}}{N}$$\n",
    "$$x[n]_{DFT}=Nx[n]_{FFT}$$\n",
    "Podemos además aprovechar su **periodicidad y simétria:**\n",
    "$$W_{N}^{K+N}=W_{N}^{KN}-->periódico$$\n",
    "$$W_{N}^{K+N/2}=-W_{N}^{KN}-->simétrico$$\n",
    "Ejemplo de N=8:\n",
    "![Image](FFT-propiedad.PNG)"
   ]
  },
  {
   "cell_type": "markdown",
   "id": "999900a1",
   "metadata": {},
   "source": [
    "comenzaremos con la demostración de la FFT.  \n",
    "Sea la secuencia de datos x[n] con n $\\in$ [0,N-1], separemos la secuencia en pares e impares.\n",
    "$$X[K]=\\sum_{n=0}^{N/2-1}x[n]W_{N}^{nK}+\\sum_{n=N/2}^{N-1}x[n]W_{N}^{nK}$$\n",
    "si hacemos $\\mu=n-N/2$:\n",
    "$$X[K]=\\sum_{n=0}^{N/2-1}x[n]W_{N}^{nK}+\\sum_{\\mu=0}^{N/2-1}x[\\mu+N/2]W_{N}^{(\\mu+N/2)K}$$\n",
    "luego $\\mu=n$:\n",
    "$$X[K]=\\sum_{n=0}^{N/2-1}x[n]W_{N}^{nK}+\\sum_{n=0}^{N/2-1}x[n+N/2]W_{N}^{(n+N/2)K}$$\n",
    "además:\n",
    "$$W_{N}^{\\frac{N}{2}K}=e^{-j\\pi k}=(-1)^K$$\n",
    "finalmente:\n",
    "$$X[K]=\\sum_{n=0}^{N/2-1}[x[n]+(-1)^Kx[n+N/2]]W_{N}^{nK}$$\n",
    "* si K es par:\n",
    "$$X[K]=\\sum_{n=0}^{N/2-1}[x[n]+x[n+N/2]]W_{N}^{nK}$$\n",
    "* si K es impar:\n",
    "$$X[K]=\\sum_{n=0}^{N/2-1}[x[n]-x[n+N/2]]W_{N}^{nK}$$\n",
    "Ahora hacemos para que se vuelva par: $K=2K^{'}$\n",
    "$$X[2K^{'}]=\\sum_{n=0}^{N/2-1}[x[n]+x[n+N/2]]W_{N}^{2nK^{'}}$$\n",
    "Ahora hacemos para que se vuelva impar: $K=2K^{'}+1$\n",
    "$$X[2K^{'}]=\\sum_{n=0}^{N/2-1}[x[n]-x[n+N/2]]W_{N}^{2nK^{'}}W_{N}^{n}$$\n",
    "FINALMENTE:\n",
    "$$X[2K^{'}]=\\sum_{n=0}^{N/2-1}a[n]W_{N}^{2nK^{'}}-->PARES$$\n",
    "$$X[2K^{'}+1]=\\sum_{n=0}^{N/2-1}b[n]W_{N}^{2nK^{'}}W_{N}^{n}-->IMPARES$$\n",
    "DONDE:\n",
    "$$a[n]=x[n]+x[n+N/2]$$\n",
    "$$b[n]=x[n]-x[n+N/2]$$"
   ]
  },
  {
   "cell_type": "markdown",
   "id": "8f17678c",
   "metadata": {},
   "source": [
    "### Analisis de un caso general: $N=2^m$ ###\n",
    "* m=viene hacer la cantidad de etapas.\n",
    "* N=longitud de los coeficientes.\n",
    "![Image](http://www.ehu.eus/Procesadodesenales/tema7/Image2479.gif)\n",
    "**El número total de operaciones complejas que se pueden realizar:**  \n",
    "$$N.m=N.\\log_{2}(N)$$\n",
    "![Image](http://www.ehu.eus/Procesadodesenales/tema7/Image2400.gif)  \n",
    "**Ejemplo**:\n",
    "![Image](algo-fft.PNG)\n",
    "Podemos notar que tiene 3 etapas debido a que estamos usando el algoritmo para 8 Puntos."
   ]
  },
  {
   "cell_type": "markdown",
   "id": "3dc8137a",
   "metadata": {},
   "source": [
    "Inspeccionando el diagrama que representa el algoritmo, será necesario ordenar la reordenar los datos de entrada. Este \"desorden\" es inherente al algoritmo y es un problema menor ya que es fácil desarrollar una técnica general para el reordenamiento de la secuencia x[n]. Para ello se realizará un tabla adjunta en términos binarios como podemos observar en el siguiente gráfico.\n",
    "![Image](http://www.ehu.eus/Procesadodesenales/tema7/Image2462.gif)"
   ]
  },
  {
   "cell_type": "code",
   "execution_count": 1,
   "id": "a28ade51",
   "metadata": {},
   "outputs": [],
   "source": [
    "import numpy as np\n",
    "from scipy.fftpack import fft,fftshift"
   ]
  },
  {
   "cell_type": "markdown",
   "id": "88bf8f01",
   "metadata": {},
   "source": [
    "![Image](Imagenes/ejemplo-fft1.PNG)\n",
    "![Image](Imagenes/ejemplo-fft2.PNG)"
   ]
  },
  {
   "cell_type": "code",
   "execution_count": 2,
   "id": "23ebc2c9",
   "metadata": {},
   "outputs": [
    {
     "name": "stdout",
     "output_type": "stream",
     "text": [
      "X[0]--> (4-0j)\n",
      "X[1]--> (1-2.414213562373095j)\n",
      "X[2]--> -0j\n",
      "X[3]--> (1-0.41421356237309515j)\n",
      "X[4]--> -0j\n",
      "X[5]--> (1+0.41421356237309515j)\n",
      "X[6]--> 0j\n",
      "X[7]--> (1+2.414213562373095j)\n"
     ]
    }
   ],
   "source": [
    "discreto=np.array([1,1,1,1,0,0,0,0]) #Valores discretos\n",
    "N=8 #la cantidad de puntos\n",
    "X=fft(discreto, N)\n",
    "for i in range(8):\n",
    "    print(f'X[{i}]--> {X[i]}')"
   ]
  }
 ],
 "metadata": {
  "kernelspec": {
   "display_name": "Python 3 (ipykernel)",
   "language": "python",
   "name": "python3"
  },
  "language_info": {
   "codemirror_mode": {
    "name": "ipython",
    "version": 3
   },
   "file_extension": ".py",
   "mimetype": "text/x-python",
   "name": "python",
   "nbconvert_exporter": "python",
   "pygments_lexer": "ipython3",
   "version": "3.9.6"
  }
 },
 "nbformat": 4,
 "nbformat_minor": 5
}
